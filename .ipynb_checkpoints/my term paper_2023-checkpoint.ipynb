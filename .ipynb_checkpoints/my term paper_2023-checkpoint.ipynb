{
 "cells": [
  {
   "cell_type": "markdown",
   "id": "5876aa42",
   "metadata": {},
   "source": [
    "# A/B–тестирование"
   ]
  },
  {
   "cell_type": "markdown",
   "id": "99919696",
   "metadata": {},
   "source": [
    "## 1. Условие"
   ]
  },
  {
   "cell_type": "markdown",
   "id": "18fbc288",
   "metadata": {},
   "source": [
    "##### Одной из основных задач аналитика в нашей команде является корректное проведение экспериментов.\n",
    "#####  Для этого мы применяем метод A/B–тестирования. \n",
    "#####  В ходе тестирования одной гипотезы целевой группе была предложена новая механика оплаты услуг на сайте,\n",
    "#####  у контрольной группы оставалась базовая механика.\n",
    "#####  Необходимо проанализировать итоги эксперимента и сделать вывод,\n",
    "#####  стоит ли запускать новую механику оплаты на всех пользователей.\n",
    "\n",
    "## 2. Входные данные\n",
    "\n",
    "#####  В качестве входных данных мы имеем 3 csv-файла:\n",
    "\n",
    "#####  groups.csv - файл с информацией о принадлежности пользователя к контрольной или экспериментальной группе \n",
    "#####  (А – контроль, B – целевая группа) \n",
    "#####  active_studs.csv - файл с информацией о пользователях, которые зашли на платформу в дни проведения эксперимента. \n",
    "#####  checks.csv - файл с информацией об оплатах пользователей в дни проведения эксперимента. "
   ]
  },
  {
   "cell_type": "code",
   "execution_count": 14,
   "id": "95075aee",
   "metadata": {},
   "outputs": [],
   "source": [
    "import pandas as pd\n",
    "import numpy as np\n",
    "import seaborn as sns\n",
    "import pandahouse as ph\n",
    "from scipy import stats\n",
    "from scipy.stats import norm\n",
    "from tqdm import tqdm\n",
    "import matplotlib.pyplot as plt\n",
    "from IPython.display import display, HTML\n",
    "from urllib.parse import urlencode\n",
    "import requests\n",
    "\n",
    "%matplotlib inline"
   ]
  },
  {
   "cell_type": "code",
   "execution_count": 15,
   "id": "e44f1b06",
   "metadata": {},
   "outputs": [],
   "source": [
    "def yandex_disk(public_key):\n",
    "    base_url = 'https://cloud-api.yandex.net/v1/disk/public/resources/download?' \n",
    "    final_url = base_url + urlencode(dict(public_key=public_key))\n",
    "    response = requests.get(final_url) \n",
    "    download_url = response.json()['href'] \n",
    "    return download_url\n",
    "groups = pd.read_csv(yandex_disk('https://disk.yandex.ru/d/UhyYx41rTt3clQ'), sep=';')\n",
    "active_studs = pd.read_csv(yandex_disk('https://disk.yandex.ru/d/Tbs44Bm6H_FwFQ'), sep=';') \n",
    "checks = pd.read_csv(yandex_disk('https://disk.yandex.ru/d/pH1q-VqcxXjsVA'), sep=';')"
   ]
  },
  {
   "cell_type": "code",
   "execution_count": 16,
   "id": "02c15700",
   "metadata": {},
   "outputs": [
    {
     "data": {
      "text/html": [
       "<style>\n",
       ".output {\n",
       "    flex-direction: row;\n",
       "}\n",
       "</style>"
      ],
      "text/plain": [
       "<IPython.core.display.HTML object>"
      ]
     },
     "execution_count": 16,
     "metadata": {},
     "output_type": "execute_result"
    }
   ],
   "source": [
    "CSS = \"\"\"\n",
    ".output {\n",
    "    flex-direction: row;\n",
    "}\n",
    "\"\"\"\n",
    "\n",
    "HTML('<style>{}</style>'.format(CSS))"
   ]
  },
  {
   "cell_type": "code",
   "execution_count": 17,
   "id": "0fe6640f",
   "metadata": {},
   "outputs": [
    {
     "data": {
      "text/html": [
       "<div>\n",
       "<style scoped>\n",
       "    .dataframe tbody tr th:only-of-type {\n",
       "        vertical-align: middle;\n",
       "    }\n",
       "\n",
       "    .dataframe tbody tr th {\n",
       "        vertical-align: top;\n",
       "    }\n",
       "\n",
       "    .dataframe thead th {\n",
       "        text-align: right;\n",
       "    }\n",
       "</style>\n",
       "<table border=\"1\" class=\"dataframe\">\n",
       "  <thead>\n",
       "    <tr style=\"text-align: right;\">\n",
       "      <th></th>\n",
       "      <th>id</th>\n",
       "      <th>grp</th>\n",
       "    </tr>\n",
       "  </thead>\n",
       "  <tbody>\n",
       "    <tr>\n",
       "      <th>0</th>\n",
       "      <td>1489</td>\n",
       "      <td>B</td>\n",
       "    </tr>\n",
       "    <tr>\n",
       "      <th>1</th>\n",
       "      <td>1627</td>\n",
       "      <td>A</td>\n",
       "    </tr>\n",
       "    <tr>\n",
       "      <th>2</th>\n",
       "      <td>1768</td>\n",
       "      <td>B</td>\n",
       "    </tr>\n",
       "    <tr>\n",
       "      <th>3</th>\n",
       "      <td>1783</td>\n",
       "      <td>B</td>\n",
       "    </tr>\n",
       "    <tr>\n",
       "      <th>4</th>\n",
       "      <td>1794</td>\n",
       "      <td>A</td>\n",
       "    </tr>\n",
       "  </tbody>\n",
       "</table>\n",
       "</div>"
      ],
      "text/plain": [
       "     id grp\n",
       "0  1489   B\n",
       "1  1627   A\n",
       "2  1768   B\n",
       "3  1783   B\n",
       "4  1794   A"
      ]
     },
     "metadata": {},
     "output_type": "display_data"
    },
    {
     "data": {
      "text/html": [
       "<div>\n",
       "<style scoped>\n",
       "    .dataframe tbody tr th:only-of-type {\n",
       "        vertical-align: middle;\n",
       "    }\n",
       "\n",
       "    .dataframe tbody tr th {\n",
       "        vertical-align: top;\n",
       "    }\n",
       "\n",
       "    .dataframe thead th {\n",
       "        text-align: right;\n",
       "    }\n",
       "</style>\n",
       "<table border=\"1\" class=\"dataframe\">\n",
       "  <thead>\n",
       "    <tr style=\"text-align: right;\">\n",
       "      <th></th>\n",
       "      <th>student_id</th>\n",
       "    </tr>\n",
       "  </thead>\n",
       "  <tbody>\n",
       "    <tr>\n",
       "      <th>0</th>\n",
       "      <td>581585</td>\n",
       "    </tr>\n",
       "    <tr>\n",
       "      <th>1</th>\n",
       "      <td>5723133</td>\n",
       "    </tr>\n",
       "    <tr>\n",
       "      <th>2</th>\n",
       "      <td>3276743</td>\n",
       "    </tr>\n",
       "    <tr>\n",
       "      <th>3</th>\n",
       "      <td>4238589</td>\n",
       "    </tr>\n",
       "    <tr>\n",
       "      <th>4</th>\n",
       "      <td>4475369</td>\n",
       "    </tr>\n",
       "  </tbody>\n",
       "</table>\n",
       "</div>"
      ],
      "text/plain": [
       "   student_id\n",
       "0      581585\n",
       "1     5723133\n",
       "2     3276743\n",
       "3     4238589\n",
       "4     4475369"
      ]
     },
     "metadata": {},
     "output_type": "display_data"
    },
    {
     "data": {
      "text/html": [
       "<div>\n",
       "<style scoped>\n",
       "    .dataframe tbody tr th:only-of-type {\n",
       "        vertical-align: middle;\n",
       "    }\n",
       "\n",
       "    .dataframe tbody tr th {\n",
       "        vertical-align: top;\n",
       "    }\n",
       "\n",
       "    .dataframe thead th {\n",
       "        text-align: right;\n",
       "    }\n",
       "</style>\n",
       "<table border=\"1\" class=\"dataframe\">\n",
       "  <thead>\n",
       "    <tr style=\"text-align: right;\">\n",
       "      <th></th>\n",
       "      <th>student_id</th>\n",
       "      <th>rev</th>\n",
       "    </tr>\n",
       "  </thead>\n",
       "  <tbody>\n",
       "    <tr>\n",
       "      <th>0</th>\n",
       "      <td>1627</td>\n",
       "      <td>990.0</td>\n",
       "    </tr>\n",
       "    <tr>\n",
       "      <th>1</th>\n",
       "      <td>3185</td>\n",
       "      <td>690.0</td>\n",
       "    </tr>\n",
       "    <tr>\n",
       "      <th>2</th>\n",
       "      <td>25973</td>\n",
       "      <td>690.0</td>\n",
       "    </tr>\n",
       "    <tr>\n",
       "      <th>3</th>\n",
       "      <td>26280</td>\n",
       "      <td>690.0</td>\n",
       "    </tr>\n",
       "    <tr>\n",
       "      <th>4</th>\n",
       "      <td>100300</td>\n",
       "      <td>990.0</td>\n",
       "    </tr>\n",
       "  </tbody>\n",
       "</table>\n",
       "</div>"
      ],
      "text/plain": [
       "   student_id    rev\n",
       "0        1627  990.0\n",
       "1        3185  690.0\n",
       "2       25973  690.0\n",
       "3       26280  690.0\n",
       "4      100300  990.0"
      ]
     },
     "metadata": {},
     "output_type": "display_data"
    }
   ],
   "source": [
    "display(groups.head(), active_studs.head(), checks.head())"
   ]
  },
  {
   "cell_type": "code",
   "execution_count": null,
   "id": "6e3102de",
   "metadata": {},
   "outputs": [],
   "source": [
    "# Проанализирую датафреймы на наличие дубликатов, нулевых значений и на соответствие типу данных"
   ]
  },
  {
   "cell_type": "code",
   "execution_count": 10,
   "id": "709f2caa",
   "metadata": {},
   "outputs": [
    {
     "data": {
      "text/plain": [
       "(74484, 2)"
      ]
     },
     "execution_count": 10,
     "metadata": {},
     "output_type": "execute_result"
    }
   ],
   "source": [
    "groups.shape"
   ]
  },
  {
   "cell_type": "code",
   "execution_count": 11,
   "id": "5db400bd",
   "metadata": {},
   "outputs": [
    {
     "data": {
      "text/plain": [
       "id     74484\n",
       "grp        2\n",
       "dtype: int64"
      ]
     },
     "execution_count": 11,
     "metadata": {},
     "output_type": "execute_result"
    }
   ],
   "source": [
    "groups.nunique()"
   ]
  },
  {
   "cell_type": "code",
   "execution_count": 12,
   "id": "799b6938",
   "metadata": {},
   "outputs": [
    {
     "name": "stdout",
     "output_type": "stream",
     "text": [
      "<class 'pandas.core.frame.DataFrame'>\n",
      "RangeIndex: 74484 entries, 0 to 74483\n",
      "Data columns (total 2 columns):\n",
      " #   Column  Non-Null Count  Dtype \n",
      "---  ------  --------------  ----- \n",
      " 0   id      74484 non-null  int64 \n",
      " 1   grp     74484 non-null  object\n",
      "dtypes: int64(1), object(1)\n",
      "memory usage: 1.1+ MB\n"
     ]
    }
   ],
   "source": [
    "groups.info()"
   ]
  },
  {
   "cell_type": "code",
   "execution_count": null,
   "id": "e6c7df44",
   "metadata": {},
   "outputs": [],
   "source": [
    "# Вижу, что дубликатов и нулевых значений нет,\n",
    "# тип данных соответствует ожидаемому формату данных для каждого столбца"
   ]
  },
  {
   "cell_type": "code",
   "execution_count": 13,
   "id": "b35fd4b9",
   "metadata": {},
   "outputs": [
    {
     "data": {
      "text/plain": [
       "(8341, 1)"
      ]
     },
     "execution_count": 13,
     "metadata": {},
     "output_type": "execute_result"
    }
   ],
   "source": [
    "active_studs.shape"
   ]
  },
  {
   "cell_type": "code",
   "execution_count": 14,
   "id": "807f8403",
   "metadata": {},
   "outputs": [
    {
     "data": {
      "text/plain": [
       "student_id    8341\n",
       "dtype: int64"
      ]
     },
     "execution_count": 14,
     "metadata": {},
     "output_type": "execute_result"
    }
   ],
   "source": [
    "active_studs.nunique()"
   ]
  },
  {
   "cell_type": "code",
   "execution_count": 15,
   "id": "e7d4f592",
   "metadata": {},
   "outputs": [
    {
     "name": "stdout",
     "output_type": "stream",
     "text": [
      "<class 'pandas.core.frame.DataFrame'>\n",
      "RangeIndex: 8341 entries, 0 to 8340\n",
      "Data columns (total 1 columns):\n",
      " #   Column      Non-Null Count  Dtype\n",
      "---  ------      --------------  -----\n",
      " 0   student_id  8341 non-null   int64\n",
      "dtypes: int64(1)\n",
      "memory usage: 65.3 KB\n"
     ]
    }
   ],
   "source": [
    "active_studs.info()"
   ]
  },
  {
   "cell_type": "code",
   "execution_count": null,
   "id": "f9aa910e",
   "metadata": {},
   "outputs": [],
   "source": [
    "# Так же дубликатов и нулевых значений нет,\n",
    "# тип данных соответствует ожидаемому формату данных для каждого столбца"
   ]
  },
  {
   "cell_type": "code",
   "execution_count": 16,
   "id": "4ce76af3",
   "metadata": {},
   "outputs": [
    {
     "data": {
      "text/plain": [
       "(541, 2)"
      ]
     },
     "execution_count": 16,
     "metadata": {},
     "output_type": "execute_result"
    }
   ],
   "source": [
    "checks.shape"
   ]
  },
  {
   "cell_type": "code",
   "execution_count": 17,
   "id": "e8d10cd5",
   "metadata": {},
   "outputs": [
    {
     "data": {
      "text/plain": [
       "student_id    541\n",
       "rev            39\n",
       "dtype: int64"
      ]
     },
     "execution_count": 17,
     "metadata": {},
     "output_type": "execute_result"
    }
   ],
   "source": [
    "checks.nunique()"
   ]
  },
  {
   "cell_type": "code",
   "execution_count": 18,
   "id": "037c72d2",
   "metadata": {},
   "outputs": [
    {
     "name": "stdout",
     "output_type": "stream",
     "text": [
      "<class 'pandas.core.frame.DataFrame'>\n",
      "RangeIndex: 541 entries, 0 to 540\n",
      "Data columns (total 2 columns):\n",
      " #   Column      Non-Null Count  Dtype  \n",
      "---  ------      --------------  -----  \n",
      " 0   student_id  541 non-null    int64  \n",
      " 1   rev         541 non-null    float64\n",
      "dtypes: float64(1), int64(1)\n",
      "memory usage: 8.6 KB\n"
     ]
    }
   ],
   "source": [
    "checks.info()"
   ]
  },
  {
   "cell_type": "code",
   "execution_count": null,
   "id": "045fc6db",
   "metadata": {},
   "outputs": [],
   "source": [
    "# Дубликатов и нулевых значений нет, тип данных соответствует ожидаемому формату данных для каждого столбца"
   ]
  },
  {
   "cell_type": "code",
   "execution_count": 18,
   "id": "1d5396a5",
   "metadata": {},
   "outputs": [],
   "source": [
    "# Переименую столбец в таблице active_studs, для дальнейшего объединения\n",
    "active_studs = active_studs.rename(columns={'student_id': 'id'})"
   ]
  },
  {
   "cell_type": "code",
   "execution_count": null,
   "id": "c90a0ff7",
   "metadata": {},
   "outputs": [],
   "source": [
    "# Объединю в один датафрейм две таблицы, оставив только активных пользователей"
   ]
  },
  {
   "cell_type": "code",
   "execution_count": 19,
   "id": "69807bff",
   "metadata": {},
   "outputs": [],
   "source": [
    "gr_activ = groups.merge(active_studs, how='inner', on='id')"
   ]
  },
  {
   "cell_type": "code",
   "execution_count": 20,
   "id": "c5137c58",
   "metadata": {},
   "outputs": [],
   "source": [
    "# Переименую столбец в таблице checks, для дальнейшего объединения\n",
    "checks = checks.rename(columns={'student_id': 'id'})"
   ]
  },
  {
   "cell_type": "code",
   "execution_count": null,
   "id": "dfaf0582",
   "metadata": {},
   "outputs": [],
   "source": [
    "# Добавлю целевую метрику, кто совершал оплату в дни эксперимента,\n",
    "# но с сохранением всех активных пользователей, через left\n",
    "# Для замены значений NaN использую функцию fillna"
   ]
  },
  {
   "cell_type": "code",
   "execution_count": 21,
   "id": "245730d2",
   "metadata": {},
   "outputs": [
    {
     "data": {
      "text/html": [
       "<div>\n",
       "<style scoped>\n",
       "    .dataframe tbody tr th:only-of-type {\n",
       "        vertical-align: middle;\n",
       "    }\n",
       "\n",
       "    .dataframe tbody tr th {\n",
       "        vertical-align: top;\n",
       "    }\n",
       "\n",
       "    .dataframe thead th {\n",
       "        text-align: right;\n",
       "    }\n",
       "</style>\n",
       "<table border=\"1\" class=\"dataframe\">\n",
       "  <thead>\n",
       "    <tr style=\"text-align: right;\">\n",
       "      <th></th>\n",
       "      <th>id</th>\n",
       "      <th>grp</th>\n",
       "      <th>rev</th>\n",
       "    </tr>\n",
       "  </thead>\n",
       "  <tbody>\n",
       "    <tr>\n",
       "      <th>0</th>\n",
       "      <td>1627</td>\n",
       "      <td>A</td>\n",
       "      <td>990.0</td>\n",
       "    </tr>\n",
       "    <tr>\n",
       "      <th>1</th>\n",
       "      <td>2085</td>\n",
       "      <td>B</td>\n",
       "      <td>0.0</td>\n",
       "    </tr>\n",
       "    <tr>\n",
       "      <th>2</th>\n",
       "      <td>2215</td>\n",
       "      <td>B</td>\n",
       "      <td>0.0</td>\n",
       "    </tr>\n",
       "    <tr>\n",
       "      <th>3</th>\n",
       "      <td>3391</td>\n",
       "      <td>A</td>\n",
       "      <td>0.0</td>\n",
       "    </tr>\n",
       "    <tr>\n",
       "      <th>4</th>\n",
       "      <td>3401</td>\n",
       "      <td>B</td>\n",
       "      <td>0.0</td>\n",
       "    </tr>\n",
       "    <tr>\n",
       "      <th>...</th>\n",
       "      <td>...</td>\n",
       "      <td>...</td>\n",
       "      <td>...</td>\n",
       "    </tr>\n",
       "    <tr>\n",
       "      <th>8323</th>\n",
       "      <td>5681918</td>\n",
       "      <td>B</td>\n",
       "      <td>1900.0</td>\n",
       "    </tr>\n",
       "    <tr>\n",
       "      <th>8324</th>\n",
       "      <td>5685258</td>\n",
       "      <td>B</td>\n",
       "      <td>0.0</td>\n",
       "    </tr>\n",
       "    <tr>\n",
       "      <th>8325</th>\n",
       "      <td>5688310</td>\n",
       "      <td>B</td>\n",
       "      <td>0.0</td>\n",
       "    </tr>\n",
       "    <tr>\n",
       "      <th>8326</th>\n",
       "      <td>5689627</td>\n",
       "      <td>B</td>\n",
       "      <td>0.0</td>\n",
       "    </tr>\n",
       "    <tr>\n",
       "      <th>8327</th>\n",
       "      <td>5690284</td>\n",
       "      <td>A</td>\n",
       "      <td>0.0</td>\n",
       "    </tr>\n",
       "  </tbody>\n",
       "</table>\n",
       "<p>8328 rows × 3 columns</p>\n",
       "</div>"
      ],
      "text/plain": [
       "           id grp     rev\n",
       "0        1627   A   990.0\n",
       "1        2085   B     0.0\n",
       "2        2215   B     0.0\n",
       "3        3391   A     0.0\n",
       "4        3401   B     0.0\n",
       "...       ...  ..     ...\n",
       "8323  5681918   B  1900.0\n",
       "8324  5685258   B     0.0\n",
       "8325  5688310   B     0.0\n",
       "8326  5689627   B     0.0\n",
       "8327  5690284   A     0.0\n",
       "\n",
       "[8328 rows x 3 columns]"
      ]
     },
     "execution_count": 21,
     "metadata": {},
     "output_type": "execute_result"
    }
   ],
   "source": [
    "checks_activ = gr_activ.merge(checks, how='left', on='id')\n",
    "checks_activ.fillna(0)"
   ]
  },
  {
   "cell_type": "code",
   "execution_count": null,
   "id": "7679b360",
   "metadata": {},
   "outputs": [],
   "source": [
    "# В ходе анализа буду рассматривать такие метрики, как CR и ARPPU\n",
    "# CR (конверсия) является ключевой метрикой, которая позволяет измерить эффективность процесса преобразования пользователей\n",
    "# в платящих клиентов\n",
    "\n",
    "# ARPPU предоставляет информацию о средней выручке с одного платящего пользователя.\n",
    "# Эта метрика позволяет лучше понять, насколько успешно монетизируются платящие пользователи"
   ]
  },
  {
   "cell_type": "code",
   "execution_count": null,
   "id": "94b397a8",
   "metadata": {},
   "outputs": [],
   "source": [
    "# Так же интересует кол-во пользователей в группах"
   ]
  },
  {
   "cell_type": "code",
   "execution_count": 22,
   "id": "4ebb5710",
   "metadata": {},
   "outputs": [],
   "source": [
    "df_ind = checks_activ.groupby('grp').agg({'id': 'count'})"
   ]
  },
  {
   "cell_type": "code",
   "execution_count": null,
   "id": "825c188b",
   "metadata": {},
   "outputs": [],
   "source": [
    "# Добавлю столбец с количеством плативших"
   ]
  },
  {
   "cell_type": "code",
   "execution_count": 23,
   "id": "cfb1f8ef",
   "metadata": {},
   "outputs": [],
   "source": [
    "df_ind['pay'] = checks_activ.query('rev > 0').groupby('grp').agg({'id': 'count'})"
   ]
  },
  {
   "cell_type": "code",
   "execution_count": null,
   "id": "a71278d4",
   "metadata": {},
   "outputs": [],
   "source": [
    "# С прибылью"
   ]
  },
  {
   "cell_type": "code",
   "execution_count": 24,
   "id": "bb25a5a9",
   "metadata": {},
   "outputs": [],
   "source": [
    "df_ind['rev'] = round(checks_activ.groupby('grp').agg({'rev': 'sum'}), 0)"
   ]
  },
  {
   "cell_type": "code",
   "execution_count": null,
   "id": "72870817",
   "metadata": {},
   "outputs": [],
   "source": [
    "# С CR"
   ]
  },
  {
   "cell_type": "code",
   "execution_count": 25,
   "id": "1a529496",
   "metadata": {},
   "outputs": [],
   "source": [
    "df_ind['CR'] = round((checks_activ.query('rev > 0').groupby('grp')\n",
    "    .agg({'id': 'count'}) / checks_activ.groupby('grp') \n",
    "    .agg({'id': 'count'})) * 100, 2)"
   ]
  },
  {
   "cell_type": "code",
   "execution_count": null,
   "id": "d8d6f7ad",
   "metadata": {},
   "outputs": [],
   "source": [
    "# С ARPPU"
   ]
  },
  {
   "cell_type": "code",
   "execution_count": 26,
   "id": "b7a808b4",
   "metadata": {},
   "outputs": [],
   "source": [
    "df_ind['ARPPU'] = round(checks_activ.query('rev > 0').groupby('grp').agg({'rev': 'mean'}))"
   ]
  },
  {
   "cell_type": "code",
   "execution_count": 27,
   "id": "2961d362",
   "metadata": {},
   "outputs": [
    {
     "data": {
      "text/html": [
       "<div>\n",
       "<style scoped>\n",
       "    .dataframe tbody tr th:only-of-type {\n",
       "        vertical-align: middle;\n",
       "    }\n",
       "\n",
       "    .dataframe tbody tr th {\n",
       "        vertical-align: top;\n",
       "    }\n",
       "\n",
       "    .dataframe thead th {\n",
       "        text-align: right;\n",
       "    }\n",
       "</style>\n",
       "<table border=\"1\" class=\"dataframe\">\n",
       "  <thead>\n",
       "    <tr style=\"text-align: right;\">\n",
       "      <th></th>\n",
       "      <th>grp</th>\n",
       "      <th>id</th>\n",
       "      <th>pay</th>\n",
       "      <th>rev</th>\n",
       "      <th>CR</th>\n",
       "      <th>ARPPU</th>\n",
       "    </tr>\n",
       "  </thead>\n",
       "  <tbody>\n",
       "    <tr>\n",
       "      <th>0</th>\n",
       "      <td>A</td>\n",
       "      <td>1535</td>\n",
       "      <td>78</td>\n",
       "      <td>72820.0</td>\n",
       "      <td>5.08</td>\n",
       "      <td>934.0</td>\n",
       "    </tr>\n",
       "    <tr>\n",
       "      <th>1</th>\n",
       "      <td>B</td>\n",
       "      <td>6793</td>\n",
       "      <td>313</td>\n",
       "      <td>393074.0</td>\n",
       "      <td>4.61</td>\n",
       "      <td>1256.0</td>\n",
       "    </tr>\n",
       "  </tbody>\n",
       "</table>\n",
       "</div>"
      ],
      "text/plain": [
       "  grp    id  pay       rev    CR   ARPPU\n",
       "0   A  1535   78   72820.0  5.08   934.0\n",
       "1   B  6793  313  393074.0  4.61  1256.0"
      ]
     },
     "execution_count": 27,
     "metadata": {},
     "output_type": "execute_result"
    }
   ],
   "source": [
    "df_ind.reset_index()"
   ]
  },
  {
   "cell_type": "code",
   "execution_count": null,
   "id": "74a4cb76",
   "metadata": {},
   "outputs": [],
   "source": [
    "# Вижу, что CR в группе А больше, чем в группе В. А так как СR  это категориальная переменная, \n",
    "# все наблюдения независимы и количество наблюдений в каждой ячейке >5, то буду использовать Хи-квадрат"
   ]
  },
  {
   "cell_type": "code",
   "execution_count": null,
   "id": "99405211",
   "metadata": {},
   "outputs": [],
   "source": [
    "# гипотеза H0 - Новая система оплаты влияет на CR\n",
    "# гипотеза H1 - Новая система оплаты не влияет на CR"
   ]
  },
  {
   "cell_type": "code",
   "execution_count": 32,
   "id": "85ab8203",
   "metadata": {},
   "outputs": [
    {
     "data": {
      "text/html": [
       "<div>\n",
       "<style scoped>\n",
       "    .dataframe tbody tr th:only-of-type {\n",
       "        vertical-align: middle;\n",
       "    }\n",
       "\n",
       "    .dataframe tbody tr th {\n",
       "        vertical-align: top;\n",
       "    }\n",
       "\n",
       "    .dataframe thead th {\n",
       "        text-align: right;\n",
       "    }\n",
       "</style>\n",
       "<table border=\"1\" class=\"dataframe\">\n",
       "  <thead>\n",
       "    <tr style=\"text-align: right;\">\n",
       "      <th>fee</th>\n",
       "      <th>grp</th>\n",
       "      <th>0</th>\n",
       "      <th>1</th>\n",
       "    </tr>\n",
       "  </thead>\n",
       "  <tbody>\n",
       "    <tr>\n",
       "      <th>0</th>\n",
       "      <td>A</td>\n",
       "      <td>1457</td>\n",
       "      <td>78</td>\n",
       "    </tr>\n",
       "    <tr>\n",
       "      <th>1</th>\n",
       "      <td>B</td>\n",
       "      <td>6480</td>\n",
       "      <td>313</td>\n",
       "    </tr>\n",
       "  </tbody>\n",
       "</table>\n",
       "</div>"
      ],
      "text/plain": [
       "fee grp     0    1\n",
       "0     A  1457   78\n",
       "1     B  6480  313"
      ]
     },
     "execution_count": 32,
     "metadata": {},
     "output_type": "execute_result"
    }
   ],
   "source": [
    "df_chi = checks_activ\n",
    "\n",
    "df_chi['fee'] = np.where(df_chi.rev > 0, 1, 0)\n",
    "df_chi = pd.crosstab(df_chi.grp, df_chi.fee)\n",
    "df_chi.reset_index()"
   ]
  },
  {
   "cell_type": "code",
   "execution_count": 33,
   "id": "bc7c8417",
   "metadata": {},
   "outputs": [],
   "source": [
    "stat, p, dof, expected = stats.chi2_contingency(df_chi)"
   ]
  },
  {
   "cell_type": "code",
   "execution_count": 34,
   "id": "3fe6f94b",
   "metadata": {},
   "outputs": [
    {
     "name": "stdout",
     "output_type": "stream",
     "text": [
      "pvalue - 0.46803677583199144\n"
     ]
    }
   ],
   "source": [
    "print(f'pvalue - {p}')"
   ]
  },
  {
   "cell_type": "code",
   "execution_count": null,
   "id": "cb432db4",
   "metadata": {},
   "outputs": [],
   "source": [
    "# pvalue >0.05, поэтому я отклоняю гипотезу H0,\n",
    "# т.к новая механика оплаты никак не влияет на конверсию"
   ]
  },
  {
   "cell_type": "code",
   "execution_count": null,
   "id": "e8787c5e",
   "metadata": {},
   "outputs": [],
   "source": [
    "# Построю распределение двух групп выборок"
   ]
  },
  {
   "cell_type": "code",
   "execution_count": 35,
   "id": "5ed09ef0",
   "metadata": {},
   "outputs": [
    {
     "data": {
      "text/plain": [
       "<seaborn.axisgrid.FacetGrid at 0x1d070628e90>"
      ]
     },
     "execution_count": 35,
     "metadata": {},
     "output_type": "execute_result"
    },
    {
     "data": {
      "image/png": "[encoded data removed]",
      "text/plain": [
       "<Figure size 559.625x500 with 1 Axes>"
      ]
     },
     "metadata": {},
     "output_type": "display_data"
    }
   ],
   "source": [
    "sns.displot(data=checks_activ, x=\"rev\", hue=\"grp\")"
   ]
  },
  {
   "cell_type": "code",
   "execution_count": null,
   "id": "14fbbe36",
   "metadata": {},
   "outputs": [],
   "source": [
    "# Вижу ненормальное распределение плюс выборка достаточно маленькая, поэтому  попробую использовать метод bootstrap"
   ]
  },
  {
   "cell_type": "code",
   "execution_count": 36,
   "id": "23b838cb",
   "metadata": {},
   "outputs": [],
   "source": [
    "def bs(\n",
    "    data_column_1,  # числовые значения первой выборки\n",
    "    data_column_2,  # числовые значения второй выборки\n",
    "    boot_it=1000,  # количество бутстрэп-подвыборок\n",
    "    statistic=np.mean,  # интересующая нас статистика\n",
    "    bootstrap_conf_level=0.95  # уровень значимости\n",
    "):\n",
    "    boot_data = []\n",
    "    for i in tqdm(range(boot_it)):  # извлекаем подвыборки\n",
    "        samples_1 = data_column_1.sample(\n",
    "            len(data_column_1), \n",
    "            replace=True  # параметр возвращения\n",
    "        ).values\n",
    "        \n",
    "        samples_2 = data_column_2.sample(\n",
    "            len(data_column_1), \n",
    "            replace=True\n",
    "        ).values\n",
    "        \n",
    "        boot_data.append(statistic(samples_1) - statistic(samples_2))  # mean() - применяем статистику\n",
    "        \n",
    "    pd_boot_data = pd.DataFrame(boot_data)\n",
    "        \n",
    "    left_quant = (1 - bootstrap_conf_level) / 2\n",
    "    right_quant = 1 - (1 - bootstrap_conf_level) / 2\n",
    "    quants = pd_boot_data.quantile([left_quant, right_quant])\n",
    "        \n",
    "    p_1 = norm.cdf(\n",
    "        x=0, \n",
    "        loc=np.mean(boot_data), \n",
    "        scale=np.std(boot_data)\n",
    "    )\n",
    "    p_2 = norm.cdf(\n",
    "        x=0, \n",
    "        loc=-np.mean(boot_data), \n",
    "        scale=np.std(boot_data)\n",
    "    )\n",
    "    p_value = min(p_1, p_2) * 2\n",
    "        \n",
    "    # Визуализация\n",
    "    _, _, bars = plt.hist(pd_boot_data[0], bins=50)\n",
    "    for bar in bars:\n",
    "        if bar.get_x() <= quants.iloc[0][0] or bar.get_x() >= quants.iloc[1][0]:\n",
    "            bar.set_facecolor('red')\n",
    "        else: \n",
    "            bar.set_facecolor('grey')\n",
    "            bar.set_edgecolor('black')\n",
    "    \n",
    "    plt.style.use('ggplot')\n",
    "    plt.vlines(quants, ymin=0, ymax=50, linestyle='--')\n",
    "    plt.xlabel('boot_data')\n",
    "    plt.ylabel('frequency')\n",
    "    plt.title(\"Histogram of boot_data\")\n",
    "    plt.show()\n",
    "       \n",
    "    return {\"boot_data\": boot_data, \n",
    "            \"quants\": quants, \n",
    "            \"p_value\": p_value}"
   ]
  },
  {
   "cell_type": "code",
   "execution_count": 37,
   "id": "d816ce0f",
   "metadata": {},
   "outputs": [
    {
     "name": "stderr",
     "output_type": "stream",
     "text": [
      "100%|████████████████████████████████████████████████████████████████████████████| 1000/1000 [00:00<00:00, 2434.36it/s]\n"
     ]
    },
    {
     "data": {
      "image/png": "[encoded data removed]",
      "text/plain": [
       "<Figure size 640x480 with 1 Axes>"
      ]
     },
     "metadata": {},
     "output_type": "display_data"
    }
   ],
   "source": [
    "bs = bs(checks_activ.loc[(checks_activ.grp == 'A') & (checks_activ.rev > 0)].rev,\n",
    "    checks_activ.loc[(checks_activ.grp == 'B') & (checks_activ.rev > 0)].rev)"
   ]
  },
  {
   "cell_type": "code",
   "execution_count": 38,
   "id": "6311cb76",
   "metadata": {},
   "outputs": [
    {
     "name": "stdout",
     "output_type": "stream",
     "text": [
      "p_value: 0.019358478748796922\n"
     ]
    }
   ],
   "source": [
    "print(\"p_value:\", bs[\"p_value\"])"
   ]
  },
  {
   "cell_type": "code",
   "execution_count": 39,
   "id": "991ac53b",
   "metadata": {},
   "outputs": [
    {
     "data": {
      "text/html": [
       "<div>\n",
       "<style scoped>\n",
       "    .dataframe tbody tr th:only-of-type {\n",
       "        vertical-align: middle;\n",
       "    }\n",
       "\n",
       "    .dataframe tbody tr th {\n",
       "        vertical-align: top;\n",
       "    }\n",
       "\n",
       "    .dataframe thead th {\n",
       "        text-align: right;\n",
       "    }\n",
       "</style>\n",
       "<table border=\"1\" class=\"dataframe\">\n",
       "  <thead>\n",
       "    <tr style=\"text-align: right;\">\n",
       "      <th></th>\n",
       "      <th>0</th>\n",
       "    </tr>\n",
       "  </thead>\n",
       "  <tbody>\n",
       "    <tr>\n",
       "      <th>0.025</th>\n",
       "      <td>-603.249690</td>\n",
       "    </tr>\n",
       "    <tr>\n",
       "      <th>0.975</th>\n",
       "      <td>-50.170206</td>\n",
       "    </tr>\n",
       "  </tbody>\n",
       "</table>\n",
       "</div>"
      ],
      "text/plain": [
       "                0\n",
       "0.025 -603.249690\n",
       "0.975  -50.170206"
      ]
     },
     "execution_count": 39,
     "metadata": {},
     "output_type": "execute_result"
    }
   ],
   "source": [
    " bs[\"quants\"]"
   ]
  },
  {
   "cell_type": "code",
   "execution_count": null,
   "id": "5a29663b",
   "metadata": {},
   "outputs": [],
   "source": [
    "# p_value <0.05. Можно сказать что гипотеза H0 верна и новая механика оплаты влияет на конверсию.\n",
    "# Но так как я вижу неадекватное распределение пользователей по группам(дефект системы сплитоания),\n",
    "# выбросы покупок в дни эксперимента,я отклоняю гипотезу H0"
   ]
  },
  {
   "cell_type": "markdown",
   "id": "4795791d",
   "metadata": {},
   "source": [
    "## Спустя два дня после передачи данных, прислали дополнительный файл с пользователями"
   ]
  },
  {
   "cell_type": "markdown",
   "id": "4ef08018",
   "metadata": {},
   "source": [
    "#### groups_add.csv - дополнительный файл с пользователями"
   ]
  },
  {
   "cell_type": "code",
   "execution_count": null,
   "id": "07e426b7",
   "metadata": {},
   "outputs": [],
   "source": [
    "# Создам свою функцию, чтобы автоматически подгрузить данные из нового датафрейма"
   ]
  },
  {
   "cell_type": "code",
   "execution_count": 10,
   "id": "79ada28d",
   "metadata": {},
   "outputs": [],
   "source": [
    "groups_add = (pd.read_csv(yandex_disk('https://disk.yandex.ru/d/5Kxrz02m3IBUwQ'), sep=',') )"
   ]
  },
  {
   "cell_type": "code",
   "execution_count": 11,
   "id": "fd9c79dd",
   "metadata": {},
   "outputs": [],
   "source": [
    "def auto_addition(add_list):\n",
    "    groups = pd.read_csv(yandex_disk('https://disk.yandex.ru/d/UhyYx41rTt3clQ'), sep=';')\n",
    "    active_studs = pd.read_csv(yandex_disk('https://disk.yandex.ru/d/Tbs44Bm6H_FwFQ'), sep=';')\n",
    "    checks = pd.read_csv(yandex_disk('https://disk.yandex.ru/d/pH1q-VqcxXjsVA'), sep=';')\n",
    "    groups_add = pd.read_csv(groups_add)\n",
    "    # Объединю в один датафрейм две таблицы с принадлежностью к группам\n",
    "    group_all = pd.concat([groups, groups_add])\n",
    "    # Повторю все шаги из первого задания по объединению таблиц\n",
    "    active_studs = active_studs.rename(columns={'student_id': 'id'})\n",
    "    gr_activ = groups_all.merge(active_studs, how='inner', on='id')\n",
    "    checks = checks.rename(columns={'student_id': 'id'})\n",
    "    checks_activ = gr_activ.merge(checks, how='left', on='id')\n",
    "    # Добавлю нужные столбцы с подсчетами, как это делала в первом задании\n",
    "    df_ind = checks_activ.groupby('grp').agg({'id': 'count'})\n",
    "    df_ind['pay'] = checks_activ.query('rev > 0').groupby('grp').agg({'id': 'count'})\n",
    "    df_ind['rev'] = round(checks_activ.groupby('grp').agg({'rev': 'sum'}), 0)\n",
    "    df_ind['CR'] = round((checks_activ.query('rev > 0').groupby('grp')\n",
    "    .agg({'id': 'count'}) / checks_activ.groupby('grp') \n",
    "    .agg({'id': 'count'})) * 100, 2)\n",
    "    df_ind['ARPPU'] = round(checks_activ.query('rev > 0').groupby('grp').agg({'rev': 'mean'}))\n",
    "    \n",
    "    return"
   ]
  },
  {
   "cell_type": "code",
   "execution_count": 28,
   "id": "b4d26fc7",
   "metadata": {},
   "outputs": [
    {
     "data": {
      "text/html": [
       "<div>\n",
       "<style scoped>\n",
       "    .dataframe tbody tr th:only-of-type {\n",
       "        vertical-align: middle;\n",
       "    }\n",
       "\n",
       "    .dataframe tbody tr th {\n",
       "        vertical-align: top;\n",
       "    }\n",
       "\n",
       "    .dataframe thead th {\n",
       "        text-align: right;\n",
       "    }\n",
       "</style>\n",
       "<table border=\"1\" class=\"dataframe\">\n",
       "  <thead>\n",
       "    <tr style=\"text-align: right;\">\n",
       "      <th></th>\n",
       "      <th>grp</th>\n",
       "      <th>id</th>\n",
       "      <th>pay</th>\n",
       "      <th>rev</th>\n",
       "      <th>CR</th>\n",
       "      <th>ARPPU</th>\n",
       "    </tr>\n",
       "  </thead>\n",
       "  <tbody>\n",
       "    <tr>\n",
       "      <th>0</th>\n",
       "      <td>A</td>\n",
       "      <td>1535</td>\n",
       "      <td>78</td>\n",
       "      <td>72820.0</td>\n",
       "      <td>5.08</td>\n",
       "      <td>934.0</td>\n",
       "    </tr>\n",
       "    <tr>\n",
       "      <th>1</th>\n",
       "      <td>B</td>\n",
       "      <td>6793</td>\n",
       "      <td>313</td>\n",
       "      <td>393074.0</td>\n",
       "      <td>4.61</td>\n",
       "      <td>1256.0</td>\n",
       "    </tr>\n",
       "  </tbody>\n",
       "</table>\n",
       "</div>"
      ],
      "text/plain": [
       "  grp    id  pay       rev    CR   ARPPU\n",
       "0   A  1535   78   72820.0  5.08   934.0\n",
       "1   B  6793  313  393074.0  4.61  1256.0"
      ]
     },
     "execution_count": 28,
     "metadata": {},
     "output_type": "execute_result"
    }
   ],
   "source": [
    "df_ind_add = df_ind.reset_index()\n",
    "df_ind_add"
   ]
  },
  {
   "cell_type": "code",
   "execution_count": 44,
   "id": "2d53adfa",
   "metadata": {},
   "outputs": [],
   "source": [
    "def vizual(df_ind):   \n",
    "    fig, axes = plt.subplots(nrows=1, ncols=2, figsize=(15, 5)) \n",
    "\n",
    "    sns.barplot(x='grp', y='CR', data=df_ind, ax=axes[0])\n",
    "    axes[0].set(title='CR')\n",
    "    axes[0].set(xlabel='')\n",
    "    axes[0].set(ylabel='')\n",
    "        \n",
    " \n",
    "    sns.barplot(x='grp', y='ARPPU', data=df_ind, ax=axes[1])\n",
    "    axes[1].set(title='ARPPU')\n",
    "    axes[1].set(xlabel='')\n",
    "    axes[1].set(ylabel='')\n",
    "    return"
   ]
  },
  {
   "cell_type": "code",
   "execution_count": 45,
   "id": "b48797f7",
   "metadata": {},
   "outputs": [
    {
     "data": {
      "image/png": "[encoded data removed]",
      "text/plain": [
       "<Figure size 1500x500 with 2 Axes>"
      ]
     },
     "metadata": {},
     "output_type": "display_data"
    }
   ],
   "source": [
    "vizual(df_ind_add)"
   ]
  },
  {
   "cell_type": "markdown",
   "id": "73571492",
   "metadata": {},
   "source": [
    "# SQL\n",
    "\n",
    "## 1. Очень усердные ученики\n",
    "\n",
    "##### Образовательные курсы состоят из различных уроков, каждый из которых состоит из нескольких маленьких заданий.\n",
    "##### Каждое такое маленькое задание называется \"горошиной\".\n",
    "##### Назовём очень усердным учеником того пользователя, который хотя бы раз за текущий месяц правильно решил 20 горошин"
   ]
  },
  {
   "cell_type": "code",
   "execution_count": 16,
   "id": "732b9140",
   "metadata": {},
   "outputs": [],
   "source": [
    "connection = {'host': 'https://clickhouse.lab',\n",
    "                      'database': 'default',\n",
    "                      'user': 'marina', \n",
    "                      'password': 'dpo_python_2023'}"
   ]
  },
  {
   "cell_type": "code",
   "execution_count": 17,
   "id": "542b0207",
   "metadata": {},
   "outputs": [],
   "source": [
    "date = \"\"\"\n",
    "    SELECT\n",
    "        toDate(timest) \n",
    "    FROM \n",
    "        default.peas\n",
    "    GROUP BY toDate(timest)\n",
    "\"\"\""
   ]
  },
  {
   "cell_type": "code",
   "execution_count": 18,
   "id": "662c4bb2",
   "metadata": {},
   "outputs": [
    {
     "data": {
      "text/html": [
       "<div>\n",
       "<style scoped>\n",
       "    .dataframe tbody tr th:only-of-type {\n",
       "        vertical-align: middle;\n",
       "    }\n",
       "\n",
       "    .dataframe tbody tr th {\n",
       "        vertical-align: top;\n",
       "    }\n",
       "\n",
       "    .dataframe thead th {\n",
       "        text-align: right;\n",
       "    }\n",
       "</style>\n",
       "<table border=\"1\" class=\"dataframe\">\n",
       "  <thead>\n",
       "    <tr style=\"text-align: right;\">\n",
       "      <th></th>\n",
       "      <th>toDate(timest)</th>\n",
       "    </tr>\n",
       "  </thead>\n",
       "  <tbody>\n",
       "    <tr>\n",
       "      <th>0</th>\n",
       "      <td>2021-10-30</td>\n",
       "    </tr>\n",
       "    <tr>\n",
       "      <th>1</th>\n",
       "      <td>2021-10-31</td>\n",
       "    </tr>\n",
       "  </tbody>\n",
       "</table>\n",
       "</div>"
      ],
      "text/plain": [
       "  toDate(timest)\n",
       "0     2021-10-30\n",
       "1     2021-10-31"
      ]
     },
     "execution_count": 18,
     "metadata": {},
     "output_type": "execute_result"
    }
   ],
   "source": [
    "date = ph.read_clickhouse(date, connection=connection)\n",
    "date"
   ]
  },
  {
   "cell_type": "code",
   "execution_count": null,
   "id": "8a3da8df",
   "metadata": {},
   "outputs": [],
   "source": [
    "# Вижу данные только за два дня одного месяца"
   ]
  },
  {
   "cell_type": "code",
   "execution_count": 5,
   "id": "746b8f80",
   "metadata": {},
   "outputs": [],
   "source": [
    "query_sql = \"\"\" SELECT\n",
    "    st_id,\n",
    "    count()\n",
    "FROM\n",
    "    default.peas\n",
    "WHERE\n",
    "    correct = 1\n",
    "GROUP by\n",
    "    st_id\n",
    "HAVING\n",
    "    count(st_id)>=20\n",
    "\"\"\""
   ]
  },
  {
   "cell_type": "code",
   "execution_count": 19,
   "id": "d15c2d8c",
   "metadata": {},
   "outputs": [],
   "source": [
    "query_sql = ph.read_clickhouse(query_sql, connection=connection)"
   ]
  },
  {
   "cell_type": "code",
   "execution_count": 53,
   "id": "2c7a4968",
   "metadata": {},
   "outputs": [
    {
     "data": {
      "text/html": [
       "<div>\n",
       "<style scoped>\n",
       "    .dataframe tbody tr th:only-of-type {\n",
       "        vertical-align: middle;\n",
       "    }\n",
       "\n",
       "    .dataframe tbody tr th {\n",
       "        vertical-align: top;\n",
       "    }\n",
       "\n",
       "    .dataframe thead th {\n",
       "        text-align: right;\n",
       "    }\n",
       "</style>\n",
       "<table border=\"1\" class=\"dataframe\">\n",
       "  <thead>\n",
       "    <tr style=\"text-align: right;\">\n",
       "      <th></th>\n",
       "      <th>st_id</th>\n",
       "      <th>count()</th>\n",
       "    </tr>\n",
       "  </thead>\n",
       "  <tbody>\n",
       "    <tr>\n",
       "      <th>0</th>\n",
       "      <td>700123</td>\n",
       "      <td>126</td>\n",
       "    </tr>\n",
       "    <tr>\n",
       "      <th>1</th>\n",
       "      <td>171209</td>\n",
       "      <td>26</td>\n",
       "    </tr>\n",
       "    <tr>\n",
       "      <th>2</th>\n",
       "      <td>219630</td>\n",
       "      <td>53</td>\n",
       "    </tr>\n",
       "    <tr>\n",
       "      <th>3</th>\n",
       "      <td>416918</td>\n",
       "      <td>26</td>\n",
       "    </tr>\n",
       "    <tr>\n",
       "      <th>4</th>\n",
       "      <td>877738</td>\n",
       "      <td>22</td>\n",
       "    </tr>\n",
       "    <tr>\n",
       "      <th>...</th>\n",
       "      <td>...</td>\n",
       "      <td>...</td>\n",
       "    </tr>\n",
       "    <tr>\n",
       "      <th>131</th>\n",
       "      <td>375731</td>\n",
       "      <td>24</td>\n",
       "    </tr>\n",
       "    <tr>\n",
       "      <th>132</th>\n",
       "      <td>71465</td>\n",
       "      <td>38</td>\n",
       "    </tr>\n",
       "    <tr>\n",
       "      <th>133</th>\n",
       "      <td>936163</td>\n",
       "      <td>29</td>\n",
       "    </tr>\n",
       "    <tr>\n",
       "      <th>134</th>\n",
       "      <td>790532</td>\n",
       "      <td>22</td>\n",
       "    </tr>\n",
       "    <tr>\n",
       "      <th>135</th>\n",
       "      <td>594177</td>\n",
       "      <td>25</td>\n",
       "    </tr>\n",
       "  </tbody>\n",
       "</table>\n",
       "<p>136 rows × 2 columns</p>\n",
       "</div>"
      ],
      "text/plain": [
       "      st_id  count()\n",
       "0    700123      126\n",
       "1    171209       26\n",
       "2    219630       53\n",
       "3    416918       26\n",
       "4    877738       22\n",
       "..      ...      ...\n",
       "131  375731       24\n",
       "132   71465       38\n",
       "133  936163       29\n",
       "134  790532       22\n",
       "135  594177       25\n",
       "\n",
       "[136 rows x 2 columns]"
      ]
     },
     "execution_count": 53,
     "metadata": {},
     "output_type": "execute_result"
    }
   ],
   "source": [
    "query_sql"
   ]
  },
  {
   "cell_type": "code",
   "execution_count": 54,
   "id": "f09213c7",
   "metadata": {},
   "outputs": [],
   "source": [
    "# У нас 136 очень усердных студентов"
   ]
  },
  {
   "cell_type": "markdown",
   "id": "2a37e982",
   "metadata": {},
   "source": [
    "## 2. Оптимизация воронки\n",
    "##### Образовательная платформа предлагает пройти студентам курсы по модели trial:\n",
    "##### студент может решить бесплатно лишь 30 горошин в день.\n",
    "##### Для неограниченного количества заданий в определенной дисциплине студенту необходимо приобрести полный доступ.\n",
    "##### Команда провела эксперимент, где был протестирован новый экран оплаты.\n",
    "\n",
    "##### Даны три таблицы: peas, studs, final_project_check\n",
    "\n",
    "##### Необходимо в одном запросе выгрузить следующую информацию о группах пользователей:\n",
    "\n",
    "##### ARPU \n",
    "##### ARPAU \n",
    "##### CR в покупку \n",
    "##### СR активного пользователя в покупку \n",
    "##### CR пользователя из активности по математике (subject = ’math’) в покупку курса по математике\n",
    "##### ARPU считается относительно всех пользователей, попавших в группы.\n",
    "\n",
    "##### Активным считается пользователь, за все время решивший больше 10 задач правильно в любых дисциплинах.\n",
    "\n",
    "##### Активным по математике считается пользователь, за все время решивший 2 или больше задач правильно по математике."
   ]
  },
  {
   "cell_type": "code",
   "execution_count": 58,
   "id": "252d31ab",
   "metadata": {},
   "outputs": [],
   "source": [
    "peas = \"\"\"\n",
    "select\n",
    "    st_id,\n",
    "    toDate(timest),\n",
    "    correct,\n",
    "    subject\n",
    "from\n",
    "    default.peas\n",
    "\"\"\""
   ]
  },
  {
   "cell_type": "code",
   "execution_count": 59,
   "id": "e457f4fa",
   "metadata": {},
   "outputs": [],
   "source": [
    "peas = ph.read_clickhouse(peas, connection=connection)"
   ]
  },
  {
   "cell_type": "code",
   "execution_count": 60,
   "id": "deb51e84",
   "metadata": {},
   "outputs": [],
   "source": [
    "studs = \"\"\"\n",
    "select *\n",
    "from default.studs\n",
    "\"\"\""
   ]
  },
  {
   "cell_type": "code",
   "execution_count": 61,
   "id": "d5bc1400",
   "metadata": {},
   "outputs": [],
   "source": [
    "studs = ph.read_clickhouse(studs, connection=connection)"
   ]
  },
  {
   "cell_type": "code",
   "execution_count": 62,
   "id": "ebb22dce",
   "metadata": {},
   "outputs": [],
   "source": [
    "final_project_check = \"\"\"\n",
    "select\n",
    "    st_id,\n",
    "    toDate(sale_time),\n",
    "    money,\n",
    "    subject\n",
    "from default.final_project_check\n",
    "\"\"\""
   ]
  },
  {
   "cell_type": "code",
   "execution_count": 63,
   "id": "fac0c52d",
   "metadata": {},
   "outputs": [],
   "source": [
    "final_project_check = ph.read_clickhouse(final_project_check, connection=connection)"
   ]
  },
  {
   "cell_type": "code",
   "execution_count": 64,
   "id": "ada43aa5",
   "metadata": {},
   "outputs": [
    {
     "data": {
      "text/html": [
       "<style>\n",
       ".output {\n",
       "    flex-direction: row;\n",
       "}\n",
       "</style>"
      ],
      "text/plain": [
       "<IPython.core.display.HTML object>"
      ]
     },
     "execution_count": 64,
     "metadata": {},
     "output_type": "execute_result"
    }
   ],
   "source": [
    "CSS = \"\"\"\n",
    ".output {\n",
    "    flex-direction: row;\n",
    "}\n",
    "\"\"\"\n",
    "\n",
    "HTML('<style>{}</style>'.format(CSS))"
   ]
  },
  {
   "cell_type": "code",
   "execution_count": 65,
   "id": "70f0eda2",
   "metadata": {},
   "outputs": [
    {
     "data": {
      "text/html": [
       "<div>\n",
       "<style scoped>\n",
       "    .dataframe tbody tr th:only-of-type {\n",
       "        vertical-align: middle;\n",
       "    }\n",
       "\n",
       "    .dataframe tbody tr th {\n",
       "        vertical-align: top;\n",
       "    }\n",
       "\n",
       "    .dataframe thead th {\n",
       "        text-align: right;\n",
       "    }\n",
       "</style>\n",
       "<table border=\"1\" class=\"dataframe\">\n",
       "  <thead>\n",
       "    <tr style=\"text-align: right;\">\n",
       "      <th></th>\n",
       "      <th>st_id</th>\n",
       "      <th>toDate(timest)</th>\n",
       "      <th>correct</th>\n",
       "      <th>subject</th>\n",
       "    </tr>\n",
       "  </thead>\n",
       "  <tbody>\n",
       "    <tr>\n",
       "      <th>0</th>\n",
       "      <td>100379</td>\n",
       "      <td>2021-10-30</td>\n",
       "      <td>1</td>\n",
       "      <td>Theory of probability</td>\n",
       "    </tr>\n",
       "    <tr>\n",
       "      <th>1</th>\n",
       "      <td>100379</td>\n",
       "      <td>2021-10-30</td>\n",
       "      <td>0</td>\n",
       "      <td>Vizualization</td>\n",
       "    </tr>\n",
       "    <tr>\n",
       "      <th>2</th>\n",
       "      <td>100379</td>\n",
       "      <td>2021-10-30</td>\n",
       "      <td>1</td>\n",
       "      <td>Theory of probability</td>\n",
       "    </tr>\n",
       "    <tr>\n",
       "      <th>3</th>\n",
       "      <td>100379</td>\n",
       "      <td>2021-10-30</td>\n",
       "      <td>1</td>\n",
       "      <td>Vizualization</td>\n",
       "    </tr>\n",
       "    <tr>\n",
       "      <th>4</th>\n",
       "      <td>100379</td>\n",
       "      <td>2021-10-30</td>\n",
       "      <td>1</td>\n",
       "      <td>Theory of probability</td>\n",
       "    </tr>\n",
       "  </tbody>\n",
       "</table>\n",
       "</div>"
      ],
      "text/plain": [
       "    st_id toDate(timest)  correct                subject\n",
       "0  100379     2021-10-30        1  Theory of probability\n",
       "1  100379     2021-10-30        0          Vizualization\n",
       "2  100379     2021-10-30        1  Theory of probability\n",
       "3  100379     2021-10-30        1          Vizualization\n",
       "4  100379     2021-10-30        1  Theory of probability"
      ]
     },
     "metadata": {},
     "output_type": "display_data"
    },
    {
     "data": {
      "text/html": [
       "<div>\n",
       "<style scoped>\n",
       "    .dataframe tbody tr th:only-of-type {\n",
       "        vertical-align: middle;\n",
       "    }\n",
       "\n",
       "    .dataframe tbody tr th {\n",
       "        vertical-align: top;\n",
       "    }\n",
       "\n",
       "    .dataframe thead th {\n",
       "        text-align: right;\n",
       "    }\n",
       "</style>\n",
       "<table border=\"1\" class=\"dataframe\">\n",
       "  <thead>\n",
       "    <tr style=\"text-align: right;\">\n",
       "      <th></th>\n",
       "      <th>st_id</th>\n",
       "      <th>test_grp</th>\n",
       "    </tr>\n",
       "  </thead>\n",
       "  <tbody>\n",
       "    <tr>\n",
       "      <th>0</th>\n",
       "      <td>100379</td>\n",
       "      <td>pilot</td>\n",
       "    </tr>\n",
       "    <tr>\n",
       "      <th>1</th>\n",
       "      <td>101432</td>\n",
       "      <td>control</td>\n",
       "    </tr>\n",
       "    <tr>\n",
       "      <th>2</th>\n",
       "      <td>104818</td>\n",
       "      <td>pilot</td>\n",
       "    </tr>\n",
       "    <tr>\n",
       "      <th>3</th>\n",
       "      <td>104885</td>\n",
       "      <td>pilot</td>\n",
       "    </tr>\n",
       "    <tr>\n",
       "      <th>4</th>\n",
       "      <td>104966</td>\n",
       "      <td>pilot</td>\n",
       "    </tr>\n",
       "  </tbody>\n",
       "</table>\n",
       "</div>"
      ],
      "text/plain": [
       "    st_id test_grp\n",
       "0  100379    pilot\n",
       "1  101432  control\n",
       "2  104818    pilot\n",
       "3  104885    pilot\n",
       "4  104966    pilot"
      ]
     },
     "metadata": {},
     "output_type": "display_data"
    },
    {
     "data": {
      "text/html": [
       "<div>\n",
       "<style scoped>\n",
       "    .dataframe tbody tr th:only-of-type {\n",
       "        vertical-align: middle;\n",
       "    }\n",
       "\n",
       "    .dataframe tbody tr th {\n",
       "        vertical-align: top;\n",
       "    }\n",
       "\n",
       "    .dataframe thead th {\n",
       "        text-align: right;\n",
       "    }\n",
       "</style>\n",
       "<table border=\"1\" class=\"dataframe\">\n",
       "  <thead>\n",
       "    <tr style=\"text-align: right;\">\n",
       "      <th></th>\n",
       "      <th>st_id</th>\n",
       "      <th>toDate(sale_time)</th>\n",
       "      <th>money</th>\n",
       "      <th>subject</th>\n",
       "    </tr>\n",
       "  </thead>\n",
       "  <tbody>\n",
       "    <tr>\n",
       "      <th>0</th>\n",
       "      <td>101432</td>\n",
       "      <td>2021-10-31</td>\n",
       "      <td>85000</td>\n",
       "      <td>Math</td>\n",
       "    </tr>\n",
       "    <tr>\n",
       "      <th>1</th>\n",
       "      <td>101432</td>\n",
       "      <td>2021-10-31</td>\n",
       "      <td>65000</td>\n",
       "      <td>Vizualization</td>\n",
       "    </tr>\n",
       "    <tr>\n",
       "      <th>2</th>\n",
       "      <td>104885</td>\n",
       "      <td>2021-10-30</td>\n",
       "      <td>65000</td>\n",
       "      <td>Vizualization</td>\n",
       "    </tr>\n",
       "    <tr>\n",
       "      <th>3</th>\n",
       "      <td>104885</td>\n",
       "      <td>2021-10-30</td>\n",
       "      <td>75000</td>\n",
       "      <td>Statistics</td>\n",
       "    </tr>\n",
       "    <tr>\n",
       "      <th>4</th>\n",
       "      <td>106464</td>\n",
       "      <td>2021-10-31</td>\n",
       "      <td>85000</td>\n",
       "      <td>Math</td>\n",
       "    </tr>\n",
       "  </tbody>\n",
       "</table>\n",
       "</div>"
      ],
      "text/plain": [
       "    st_id toDate(sale_time)  money        subject\n",
       "0  101432        2021-10-31  85000           Math\n",
       "1  101432        2021-10-31  65000  Vizualization\n",
       "2  104885        2021-10-30  65000  Vizualization\n",
       "3  104885        2021-10-30  75000     Statistics\n",
       "4  106464        2021-10-31  85000           Math"
      ]
     },
     "metadata": {},
     "output_type": "display_data"
    }
   ],
   "source": [
    "display(peas.head(), studs.head(), final_project_check.head())"
   ]
  },
  {
   "cell_type": "code",
   "execution_count": 68,
   "id": "00808129",
   "metadata": {},
   "outputs": [],
   "source": [
    "opt_funnel = \"\"\"\n",
    "WITH opt_funnel as\n",
    "        (\n",
    "        SELECT\n",
    "            s.st_id as s_id,\n",
    "            s.test_grp as test,\n",
    "            fpc.money as money,\n",
    "            fpc.subject as subject,\n",
    "            p.cor as cor,\n",
    "            p.math as math\n",
    "        FROM default.studs as s\n",
    "        LEFT JOIN default.final_project_check as fpc\n",
    "            ON s.st_id = fpc.st_id\n",
    "        LEFT JOIN ( \n",
    "                SELECT \n",
    "                    st_id,\n",
    "                    COUNTIf(correct=1) as cor,\n",
    "                    SUMIf(correct, subject = 'Math') as math\n",
    "                FROM default.peas\n",
    "                GROUP BY st_id)  as p\n",
    "            ON s.st_id = p.st_id)\n",
    "        SELECT \n",
    "            test,\n",
    "            SUM(money) / uniqExact(s_id) as ARPU,\n",
    "            SUMIf(money, cor > 10 )/uniqIf(s_id, cor > 10) as ARPAU,\n",
    "            (uniqIf(s_id, money > 0) / uniq(s_id))*100 as CR,\n",
    "            (uniqIf(s_id, money > 0 AND cor > 10) / uniqIf(s_id, cor > 10))*100 as CR_active,\n",
    "            (uniqIf(s_id, money > 0 AND math >= 2 AND subject = 'Math') / uniqIf(s_id, math >= 2))*100 as CR_math \n",
    "        FROM opt_funnel\n",
    "        GROUP BY test\n",
    "    \"\"\""
   ]
  },
  {
   "cell_type": "code",
   "execution_count": 69,
   "id": "17c536a7",
   "metadata": {},
   "outputs": [],
   "source": [
    "opt_funnel = ph.read_clickhouse(opt_funnel, connection=connection)"
   ]
  },
  {
   "cell_type": "code",
   "execution_count": 71,
   "id": "c3946ece",
   "metadata": {},
   "outputs": [
    {
     "data": {
      "text/html": [
       "<div>\n",
       "<style scoped>\n",
       "    .dataframe tbody tr th:only-of-type {\n",
       "        vertical-align: middle;\n",
       "    }\n",
       "\n",
       "    .dataframe tbody tr th {\n",
       "        vertical-align: top;\n",
       "    }\n",
       "\n",
       "    .dataframe thead th {\n",
       "        text-align: right;\n",
       "    }\n",
       "</style>\n",
       "<table border=\"1\" class=\"dataframe\">\n",
       "  <thead>\n",
       "    <tr style=\"text-align: right;\">\n",
       "      <th></th>\n",
       "      <th>test</th>\n",
       "      <th>ARPU</th>\n",
       "      <th>ARPAU</th>\n",
       "      <th>CR</th>\n",
       "      <th>CR_active</th>\n",
       "      <th>CR_math</th>\n",
       "    </tr>\n",
       "  </thead>\n",
       "  <tbody>\n",
       "    <tr>\n",
       "      <th>0</th>\n",
       "      <td>control</td>\n",
       "      <td>4540.983607</td>\n",
       "      <td>10393.700787</td>\n",
       "      <td>4.918033</td>\n",
       "      <td>11.023622</td>\n",
       "      <td>6.122449</td>\n",
       "    </tr>\n",
       "    <tr>\n",
       "      <th>1</th>\n",
       "      <td>pilot</td>\n",
       "      <td>11508.474576</td>\n",
       "      <td>29739.583333</td>\n",
       "      <td>10.847458</td>\n",
       "      <td>26.041667</td>\n",
       "      <td>9.523810</td>\n",
       "    </tr>\n",
       "  </tbody>\n",
       "</table>\n",
       "</div>"
      ],
      "text/plain": [
       "      test          ARPU         ARPAU         CR  CR_active   CR_math\n",
       "0  control   4540.983607  10393.700787   4.918033  11.023622  6.122449\n",
       "1    pilot  11508.474576  29739.583333  10.847458  26.041667  9.523810"
      ]
     },
     "execution_count": 71,
     "metadata": {},
     "output_type": "execute_result"
    }
   ],
   "source": [
    "opt_funnel"
   ]
  }
 ],
 "metadata": {
  "kernelspec": {
   "display_name": "Python 3 (ipykernel)",
   "language": "python",
   "name": "python3"
  },
  "language_info": {
   "codemirror_mode": {
    "name": "ipython",
    "version": 3
   },
   "file_extension": ".py",
   "mimetype": "text/x-python",
   "name": "python",
   "nbconvert_exporter": "python",
   "pygments_lexer": "ipython3",
   "version": "3.11.4"
  }
 },
 "nbformat": 4,
 "nbformat_minor": 5
}
